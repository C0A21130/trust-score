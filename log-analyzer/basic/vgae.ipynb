{
 "cells": [
  {
   "cell_type": "markdown",
   "id": "9ace24f8",
   "metadata": {},
   "source": [
    "# VGAEを活用したデータ生成\n",
    "## GPU PyTorchの動作確認"
   ]
  },
  {
   "cell_type": "code",
   "execution_count": 1,
   "id": "98057bbf",
   "metadata": {},
   "outputs": [
    {
     "name": "stdout",
     "output_type": "stream",
     "text": [
      "Python：3.12.11 (main, Jul  3 2025, 17:03:59) [GCC 11.4.0]\n",
      "PyTorch：2.7.1+cu128\n",
      "CUDA：12.8\n",
      "GPU：NVIDIA GeForce RTX 3060\n"
     ]
    }
   ],
   "source": [
    "import sys\n",
    "import torch\n",
    "from torch_geometric.data import Data\n",
    "\n",
    "print(\"Python：\" + sys.version)\n",
    "print(\"PyTorch：\" + torch.__version__)\n",
    "\n",
    "if torch.cuda.is_available():\n",
    "    print(\"CUDA：\" + torch.version.cuda)\n",
    "    print(\"GPU：\" + torch.cuda.get_device_name(0))\n",
    "else:\n",
    "    print(\"GPU is not available.\")\n"
   ]
  },
  {
   "cell_type": "markdown",
   "id": "2554370f",
   "metadata": {},
   "source": [
    "## データの取得\n",
    "1. Coraグラフデータの取得\n",
    "2. グラフデータの可視化\n",
    "3. 取得したグラフデータをPyTorchのデータ型に変換する"
   ]
  },
  {
   "cell_type": "code",
   "execution_count": null,
   "id": "3aff6b69",
   "metadata": {},
   "outputs": [
    {
     "name": "stderr",
     "output_type": "stream",
     "text": [
      "Downloading https://github.com/kimiyoung/planetoid/raw/master/data/ind.cora.x\n",
      "Downloading https://github.com/kimiyoung/planetoid/raw/master/data/ind.cora.tx\n",
      "Downloading https://github.com/kimiyoung/planetoid/raw/master/data/ind.cora.allx\n",
      "Downloading https://github.com/kimiyoung/planetoid/raw/master/data/ind.cora.y\n",
      "Downloading https://github.com/kimiyoung/planetoid/raw/master/data/ind.cora.ty\n",
      "Downloading https://github.com/kimiyoung/planetoid/raw/master/data/ind.cora.ally\n",
      "Downloading https://github.com/kimiyoung/planetoid/raw/master/data/ind.cora.graph\n",
      "Downloading https://github.com/kimiyoung/planetoid/raw/master/data/ind.cora.test.index\n"
     ]
    },
    {
     "name": "stdout",
     "output_type": "stream",
     "text": [
      "tensor([[0., 0., 0.,  ..., 0., 0., 0.],\n",
      "        [0., 0., 0.,  ..., 0., 0., 0.],\n",
      "        [0., 0., 0.,  ..., 0., 0., 0.],\n",
      "        ...,\n",
      "        [0., 0., 0.,  ..., 0., 0., 0.],\n",
      "        [0., 0., 0.,  ..., 0., 0., 0.],\n",
      "        [0., 0., 0.,  ..., 0., 0., 0.]])\n",
      "Edge Index: tensor([[   0,    0,    0,  ..., 2707, 2707, 2707],\n",
      "        [ 633, 1862, 2582,  ...,  598, 1473, 2706]])\n"
     ]
    },
    {
     "name": "stderr",
     "output_type": "stream",
     "text": [
      "Processing...\n",
      "Done!\n",
      "/app/.venv/lib/python3.12/site-packages/torch_geometric/deprecation.py:26: UserWarning: 'train_test_split_edges' is deprecated, use 'transforms.RandomLinkSplit' instead\n",
      "  warnings.warn(out)\n"
     ]
    }
   ],
   "source": [
    "# networkxのグラフをtorch_geometricのDataに変換\n",
    "from torch_geometric.datasets import Planetoid \n",
    "from torch_geometric.utils import (\n",
    "    train_test_split_edges,\n",
    ")\n",
    "\n",
    "# Cora の citation ネットワーク (2,708 ノード / 5,429 エッジ)\n",
    "data = Planetoid(root='/tmp', name='Cora')[0]\n",
    "data.train_mask = data.val_mask = data.test_mask = None      # ノード分類用マスクは不要\n",
    "\n",
    "# エッジをトレーニング、検証、テストセットに分割\n",
    "data = train_test_split_edges(data)\n",
    "\n",
    "# print(\"PyTorch Geometric Data:\", data)\n",
    "print(data.x)\n",
    "print(\"Edge Index:\", data.train_pos_edge_index)"
   ]
  },
  {
   "cell_type": "markdown",
   "id": "335399db",
   "metadata": {},
   "source": [
    "## VGANを活用したグラフ生成\n",
    "1. Encoderの定義とモデルの作成\n",
    "2. モデルの学習\n",
    "3. モデルの評価\n",
    "4. グラフの生成"
   ]
  },
  {
   "cell_type": "code",
   "execution_count": 3,
   "id": "07092346",
   "metadata": {},
   "outputs": [
    {
     "name": "stdout",
     "output_type": "stream",
     "text": [
      "入力特徴量の次元: 1433, 出力特徴量の次元: 3\n"
     ]
    }
   ],
   "source": [
    "from torch_geometric.nn import GCNConv, VGAE\n",
    "\n",
    "# Encoderの定義\n",
    "class GraphEncoder(torch.nn.Module):\n",
    "    def __init__(self, in_channels, out_channels):\n",
    "        super(GraphEncoder, self).__init__()\n",
    "        self.conv1 = GCNConv(in_channels, 2 * out_channels)\n",
    "        self.conv_mu = GCNConv(2 * out_channels, out_channels)\n",
    "        self.conv_logstd = GCNConv(2 * out_channels, out_channels)\n",
    "\n",
    "    def forward(self, x, edge_index):\n",
    "        x = self.conv1(x, edge_index).relu()\n",
    "        return self.conv_mu(x, edge_index), self.conv_logstd(x, edge_index)\n",
    "\n",
    "in_channels = data.x.size(-1) # 入力される特徴量の次元\n",
    "out_channels = 3 # 出力される特徴量の次元\n",
    "print(f\"入力特徴量の次元: {in_channels}, 出力特徴量の次元: {out_channels}\")\n",
    "model = VGAE(GraphEncoder(in_channels=in_channels, out_channels=out_channels)) # エンコーダとデコーダーを合わせてモデルのインスタンス化"
   ]
  },
  {
   "cell_type": "code",
   "execution_count": 4,
   "id": "20536508",
   "metadata": {},
   "outputs": [
    {
     "name": "stdout",
     "output_type": "stream",
     "text": [
      "Epoch 10, Loss: 1.6398036479949951\n",
      "Epoch 20, Loss: 1.307974934577942\n",
      "Epoch 30, Loss: 1.1828076839447021\n",
      "Epoch 40, Loss: 1.1406878232955933\n",
      "Epoch 50, Loss: 1.1031218767166138\n",
      "Epoch 60, Loss: 1.092420220375061\n",
      "Epoch 70, Loss: 1.089751958847046\n",
      "Epoch 80, Loss: 1.0799006223678589\n",
      "Epoch 90, Loss: 1.07563316822052\n",
      "Epoch 100, Loss: 1.088756799697876\n",
      "Epoch 110, Loss: 1.0718847513198853\n",
      "Epoch 120, Loss: 1.0778931379318237\n",
      "Epoch 130, Loss: 1.0632153749465942\n",
      "Epoch 140, Loss: 1.0565534830093384\n",
      "Epoch 150, Loss: 1.0496366024017334\n",
      "Epoch 160, Loss: 1.0461928844451904\n",
      "Epoch 170, Loss: 1.0430985689163208\n",
      "Epoch 180, Loss: 1.0315101146697998\n",
      "Epoch 190, Loss: 1.0363507270812988\n",
      "Epoch 200, Loss: 1.0259815454483032\n",
      "Epoch 210, Loss: 1.0259029865264893\n",
      "Epoch 220, Loss: 1.0178300142288208\n",
      "Epoch 230, Loss: 1.0168557167053223\n",
      "Epoch 240, Loss: 1.0291215181350708\n",
      "Epoch 250, Loss: 1.0043545961380005\n",
      "Epoch 260, Loss: 1.0196675062179565\n",
      "Epoch 270, Loss: 1.021008849143982\n",
      "Epoch 280, Loss: 1.009013295173645\n",
      "Epoch 290, Loss: 1.0117108821868896\n",
      "Epoch 300, Loss: 1.0132426023483276\n"
     ]
    }
   ],
   "source": [
    "optimizer = torch.optim.Adam(model.parameters(), lr=0.01)\n",
    "device = torch.device('cuda' if torch.cuda.is_available() else 'cpu')\n",
    "model = model.to(device) # 利用するデバイスを選択\n",
    "data = data.to(device)  # データをGPUに転送\n",
    "best_loss = float('inf') # 最良モデルの追跡用変数\n",
    "best_model = None # 最良モデルの保存用変数\n",
    "\n",
    "def train():\n",
    "    model.train()\n",
    "    optimizer.zero_grad()\n",
    "    z = model.encode(data.x, data.train_pos_edge_index)\n",
    "    recon_loss = model.recon_loss(z, data.train_pos_edge_index)\n",
    "    kl_loss = (1 / data.num_nodes) * model.kl_loss()\n",
    "    loss = recon_loss + kl_loss\n",
    "    loss.backward()\n",
    "    optimizer.step()\n",
    "    return loss.item()\n",
    "\n",
    "for epoch in range(1, 301):\n",
    "    loss = train()\n",
    "    # 現在のエポックでのlossが最良の場合、モデルを保存\n",
    "    if loss < best_loss:\n",
    "        best_loss = loss\n",
    "        # モデルの保存\n",
    "        best_model = model\n",
    "\n",
    "    if epoch % 10 == 0:\n",
    "        print(f'Epoch {epoch}, Loss: {loss}')\n",
    "model = best_model  # 最良モデルを使用 \n"
   ]
  },
  {
   "cell_type": "code",
   "execution_count": null,
   "id": "f5df08cc",
   "metadata": {},
   "outputs": [
    {
     "data": {
      "image/png": "[encoded data removed]",
      "text/plain": [
       "<Figure size 1000x1000 with 1 Axes>"
      ]
     },
     "metadata": {},
     "output_type": "display_data"
    }
   ],
   "source": [
    "import matplotlib.pyplot as plt\n",
    "import japanize_matplotlib\n",
    "\n",
    "# グラフを生成する関数\n",
    "def generate_graph(model, data):\n",
    "    model = VGAE(GraphEncoder(in_channels=in_channels, out_channels=out_channels))\n",
    "    model = model.to(device)  # モデルをGPUに転送\n",
    "    data = data.to(device)  # データをGPUに転送\n",
    "    model.eval()\n",
    "    with torch.no_grad():\n",
    "        z = model.encode(data.x, data.train_pos_edge_index)  # エンコーダを使用して潜在ベクトルzを生成\n",
    "        # 潜在ベクトルzの可視化\n",
    "        plt.figure(figsize=(10, 10))\n",
    "        plt.scatter(z[:, 0].cpu(), z[:, 1].cpu(), s=10)\n",
    "        plt.title(\"潜在ベクトルzの可視化\")\n",
    "        plt.xlabel(\"z[0]\")\n",
    "        plt.ylabel(\"z[1]\")\n",
    "        plt.show()\n",
    "\n",
    "        # print(\"z:\", z)\n",
    "        # 潜在ベクトルzをデコードして隣接行列を生成\n",
    "        adj = z @ z.t()  # xとzの内積を計算して隣接行列を生成\n",
    "        # adj = torch.matmul(z, z.t())  # 潜在ベクトルzの外積を計算して隣接行列を生成\n",
    "        adj = torch.sigmoid(adj)  # Sigmoid関数を適用して隣接行列を確率に変換\n",
    "        # print(\"prob\", adj)\n",
    "        tau = 0.55\n",
    "        adj_matrix = (adj > tau).nonzero(as_tuple=False).t()\n",
    "\n",
    "        return adj_matrix\n",
    "\n",
    "# 取引0のグラフデータを作成\n",
    "sample = generate_graph(model, data)"
   ]
  },
  {
   "cell_type": "code",
   "execution_count": null,
   "id": "0ce89247",
   "metadata": {},
   "outputs": [
    {
     "name": "stdout",
     "output_type": "stream",
     "text": [
      "生成されたグラフ: ノード数=2708, エッジ数=6031427\n"
     ]
    }
   ],
   "source": [
    "import networkx as nx\n",
    "\n",
    "g_gen = nx.DiGraph()  # 有向グラフの作成\n",
    "g_gen.add_nodes_from(range(data.num_nodes))  # ノードを追加\n",
    "g_gen.add_edges_from(sample.t().cpu().numpy())  # エッジを追加\n",
    "print(f\"生成されたグラフ: ノード数={g_gen.number_of_nodes()}, エッジ数={g_gen.number_of_edges()}\")\n",
    "\n",
    "plt.figure(figsize=(10, 10))\n",
    "nx.draw(g_gen, with_labels=False)\n",
    "plt.title(\"生成されたグラフ\")\n",
    "plt.show()"
   ]
  },
  {
   "cell_type": "code",
   "execution_count": null,
   "id": "1c4fbb40",
   "metadata": {},
   "outputs": [],
   "source": [
    "# グラフの次数分布を計算して表示\n",
    "degrees = [deg for node, deg in g_gen.degree()]\n",
    "degree_counts = {}\n",
    "\n",
    "# 次数ごとの頂点数をカウント\n",
    "for d in degrees:\n",
    "    if d in degree_counts:\n",
    "        degree_counts[d] += 1\n",
    "    else:\n",
    "        degree_counts[d] = 1\n",
    "\n",
    "# 次数分布をプロット\n",
    "plt.figure(figsize=(10, 6))\n",
    "plt.bar(degree_counts.keys(), degree_counts.values(), color='steelblue')\n",
    "plt.xlabel('次数（Degree）')\n",
    "plt.ylabel('ノード数')\n",
    "plt.title('グラフの次数分布')\n",
    "plt.grid(axis='y', linestyle='--', alpha=0.7)\n",
    "plt.show()\n",
    "\n",
    "# 統計情報も表示\n",
    "print(f\"平均次数: {sum(degrees) / len(degrees):.2f}\")\n",
    "print(f\"最大次数: {max(degrees)}\")\n",
    "print(f\"最小次数: {min(degrees)}\")\n",
    "print(f\"次数0のノード数: {degrees.count(0)}\")"
   ]
  },
  {
   "cell_type": "code",
   "execution_count": null,
   "id": "639565ad",
   "metadata": {},
   "outputs": [],
   "source": [
    "# g_genの次数中心性・媒介中心性・PageRankを計算\n",
    "centrality_df = pd.DataFrame(\n",
    "    index=list(g_gen.nodes),\n",
    "    columns=[\"degree\", \"betweenness\", \"pagerank\"]\n",
    ")\n",
    "\n",
    "# 次数中心性\n",
    "degree_centrality = nx.in_degree_centrality(g_gen)\n",
    "centrality_df[\"degree\"] = pd.Series(degree_centrality)\n",
    "# 媒介中心性\n",
    "betweenness_centrality = nx.betweenness_centrality(g_gen)\n",
    "centrality_df[\"betweenness\"] = pd.Series(betweenness_centrality)\n",
    "# PageRank\n",
    "pagerank_centrality = nx.pagerank(g_gen, max_iter=1000)\n",
    "centrality_df[\"pagerank\"] = pd.Series(pagerank_centrality)\n",
    "\n",
    "display(centrality_df.head(20))\n",
    "\n",
    "# 外れ値の除去\n",
    "# 閾値を超える次数中心性を持つ行の削除\n",
    "centrality_df_out = centrality_df.copy()\n",
    "centrality_df_out = centrality_df_out[centrality_df_out[\"degree\"] < 0.4]\n",
    "centrality_df_out = centrality_df_out[centrality_df_out[\"betweenness\"] < 0.4]\n",
    "centrality_df_out = centrality_df_out[centrality_df_out[\"pagerank\"] < 0.4]"
   ]
  },
  {
   "cell_type": "code",
   "execution_count": null,
   "id": "30ea632e",
   "metadata": {},
   "outputs": [],
   "source": [
    "# 箱ひげ図でcentrality_df_outを可視化(3つとも別の図)\n",
    "plt.figure(figsize=(12, 10))\n",
    "plt.subplot(1, 3, 1)\n",
    "centrality_df_out.boxplot(column=[\"degree\"])\n",
    "plt.title(\"生成グラフの次数中心性の箱ひげ図\")\n",
    "plt.ylabel(\"中心性スコア\")\n",
    "plt.grid(axis='y', linestyle='--', alpha=0.7)\n",
    "\n",
    "plt.subplot(1, 3, 2)\n",
    "centrality_df_out.boxplot(column=[\"betweenness\"])\n",
    "plt.title(\"生成グラフの媒介中心性の箱ひげ図\")\n",
    "plt.ylabel(\"中心性スコア\")\n",
    "plt.grid(axis='y', linestyle='--', alpha=0.7)\n",
    "\n",
    "plt.subplot(1, 3, 3)\n",
    "centrality_df_out.boxplot(column=[\"pagerank\"])\n",
    "plt.title(\"生成グラフのPageRankの箱ひげ図\")\n",
    "plt.ylabel(\"中心性スコア\")\n",
    "plt.grid(axis='y', linestyle='--', alpha=0.7)\n",
    "\n",
    "plt.show()"
   ]
  },
  {
   "cell_type": "code",
   "execution_count": null,
   "id": "6cd4228f",
   "metadata": {},
   "outputs": [],
   "source": []
  }
 ],
 "metadata": {
  "kernelspec": {
   "display_name": "Python 3 (ipykernel)",
   "language": "python",
   "name": "python3"
  },
  "language_info": {
   "codemirror_mode": {
    "name": "ipython",
    "version": 3
   },
   "file_extension": ".py",
   "mimetype": "text/x-python",
   "name": "python",
   "nbconvert_exporter": "python",
   "pygments_lexer": "ipython3",
   "version": "3.12.11"
  }
 },
 "nbformat": 4,
 "nbformat_minor": 5
}
